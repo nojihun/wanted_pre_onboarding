{
  "nbformat": 4,
  "nbformat_minor": 0,
  "metadata": {
    "colab": {
      "name": "노지훈_기업과제 1번",
      "provenance": [],
      "authorship_tag": "ABX9TyMz1DFWwdMkR8hfyDHLnzaH",
      "include_colab_link": true
    },
    "kernelspec": {
      "name": "python3",
      "display_name": "Python 3"
    },
    "language_info": {
      "name": "python"
    }
  },
  "cells": [
    {
      "cell_type": "markdown",
      "metadata": {
        "id": "view-in-github",
        "colab_type": "text"
      },
      "source": [
        "<a href=\"https://colab.research.google.com/github/nojihun/wanted_pre_onboarding/blob/main/%EB%85%B8%EC%A7%80%ED%9B%88_%EA%B8%B0%EC%97%85%EA%B3%BC%EC%A0%9C_1%EB%B2%88.ipynb\" target=\"_parent\"><img src=\"https://colab.research.google.com/assets/colab-badge.svg\" alt=\"Open In Colab\"/></a>"
      ]
    },
    {
      "cell_type": "code",
      "source": [
        "import numpy as np"
      ],
      "metadata": {
        "id": "rZnuUMFVVgqG"
      },
      "execution_count": null,
      "outputs": []
    },
    {
      "cell_type": "code",
      "execution_count": null,
      "metadata": {
        "colab": {
          "base_uri": "https://localhost:8080/"
        },
        "id": "HzO6ygV-lV2d",
        "outputId": "2db0ac73-59f5-41e1-84ef-9ab8afe27c14"
      },
      "outputs": [
        {
          "name": "stdout",
          "output_type": "stream",
          "text": [
            "N:9\n",
            "S:aaa\n",
            "S:aaaabb\n",
            "S:aabbcc\n",
            "S:abb\n",
            "S:bcc\n",
            "S:bbcc\n",
            "S:aabbccdd\n",
            "S:aaabb\n",
            "S:cccd\n",
            "Q:2\n",
            "Q_l:aaaabbaabbccdd\n",
            "Q_l:aaaaaaaaaaaaa\n"
          ]
        }
      ],
      "source": [
        "N = input('N:',)\n",
        "S = []\n",
        "for i in range(int(N)):\n",
        "    S.append(input('S:', ))\n",
        "Q = input('Q:',)\n",
        "Q_l = []\n",
        "for i in range(int(Q)):\n",
        "    Q_l.append(input('Q_l:',))\n"
      ]
    },
    {
      "cell_type": "code",
      "source": [
        "S "
      ],
      "metadata": {
        "colab": {
          "base_uri": "https://localhost:8080/"
        },
        "id": "T3fNqDTezHbN",
        "outputId": "e6e46374-ddb8-43fc-c4a1-b91ade3a12b9"
      },
      "execution_count": null,
      "outputs": [
        {
          "output_type": "execute_result",
          "data": {
            "text/plain": [
              "['aaa', 'aaaabb', 'aabbcc', 'abb', 'bcc', 'bbcc', 'aabbccdd', 'aaabb', 'cccd']"
            ]
          },
          "metadata": {},
          "execution_count": 7
        }
      ]
    },
    {
      "cell_type": "code",
      "source": [
        "list = [0 for i in range(int(N))]\n",
        "for i in range(int(Q)):\n",
        "    for z in range(len(S)):\n",
        "        if S[z] in Q_l[i]:\n",
        "            list[z] = 'TRUE'\n",
        "for z in range(int(N)):\n",
        "    if list[z] == 0:\n",
        "        list[z] = 'FALSE'\n",
        "            \n"
      ],
      "metadata": {
        "id": "BXnVbAUQ0XJD"
      },
      "execution_count": null,
      "outputs": []
    },
    {
      "cell_type": "code",
      "source": [
        "list"
      ],
      "metadata": {
        "colab": {
          "base_uri": "https://localhost:8080/"
        },
        "id": "rmzbPDy2nr6C",
        "outputId": "faffeeb0-292c-4795-c347-670d36840082"
      },
      "execution_count": null,
      "outputs": [
        {
          "output_type": "execute_result",
          "data": {
            "text/plain": [
              "['TRUE', 'TRUE', 'TRUE', 'TRUE', 'TRUE', 'TRUE', 'TRUE', 'TRUE', 'FALSE']"
            ]
          },
          "metadata": {},
          "execution_count": 10
        }
      ]
    },
    {
      "cell_type": "code",
      "source": [
        "count = 1\n",
        "for i in range(int(Q)):\n",
        "    for z in range(len(S)):\n",
        "        if S[z] in Q_l[i]:\n",
        "            print('문장 번호:', count, 'pos = ',Q_l[i].find(S[z]),'pattern = ',S[z] )\n",
        "    count+= 1\n"
      ],
      "metadata": {
        "colab": {
          "base_uri": "https://localhost:8080/"
        },
        "id": "J0QrXVnWpR0a",
        "outputId": "73162f28-0e86-4f62-b8ed-8e5213ae0718"
      },
      "execution_count": null,
      "outputs": [
        {
          "output_type": "stream",
          "name": "stdout",
          "text": [
            "문장 번호: 1 pos =  0 pattern =  aaa\n",
            "문장 번호: 1 pos =  0 pattern =  aaaabb\n",
            "문장 번호: 1 pos =  6 pattern =  aabbcc\n",
            "문장 번호: 1 pos =  3 pattern =  abb\n",
            "문장 번호: 1 pos =  9 pattern =  bcc\n",
            "문장 번호: 1 pos =  8 pattern =  bbcc\n",
            "문장 번호: 1 pos =  6 pattern =  aabbccdd\n",
            "문장 번호: 1 pos =  1 pattern =  aaabb\n",
            "문장 번호: 2 pos =  0 pattern =  aaa\n"
          ]
        }
      ]
    },
    {
      "cell_type": "code",
      "source": [
        "count = 1\n",
        "for i in range(int(Q)):\n",
        "    for z in range(len(S)):\n",
        "        while True:\n",
        "            index = Q_l[i].find(S[z], index +1)\n",
        "            if index == -1:\n",
        "                break\n",
        "            print('문장 번호:', count, 'pos = ',index,'pattern = ',S[z] )\n",
        "    count+= 1"
      ],
      "metadata": {
        "colab": {
          "base_uri": "https://localhost:8080/"
        },
        "id": "0kw88JdL1nUg",
        "outputId": "e6bc2513-77cb-42e7-d3b2-1916b0f6832a"
      },
      "execution_count": null,
      "outputs": [
        {
          "output_type": "stream",
          "name": "stdout",
          "text": [
            "문장 번호: 1 pos =  0 pattern =  aaa\n",
            "문장 번호: 1 pos =  1 pattern =  aaa\n",
            "문장 번호: 1 pos =  0 pattern =  aaaabb\n",
            "문장 번호: 1 pos =  6 pattern =  aabbcc\n",
            "문장 번호: 1 pos =  3 pattern =  abb\n",
            "문장 번호: 1 pos =  7 pattern =  abb\n",
            "문장 번호: 1 pos =  9 pattern =  bcc\n",
            "문장 번호: 1 pos =  8 pattern =  bbcc\n",
            "문장 번호: 1 pos =  6 pattern =  aabbccdd\n",
            "문장 번호: 1 pos =  1 pattern =  aaabb\n",
            "문장 번호: 2 pos =  0 pattern =  aaa\n",
            "문장 번호: 2 pos =  1 pattern =  aaa\n",
            "문장 번호: 2 pos =  2 pattern =  aaa\n",
            "문장 번호: 2 pos =  3 pattern =  aaa\n",
            "문장 번호: 2 pos =  4 pattern =  aaa\n",
            "문장 번호: 2 pos =  5 pattern =  aaa\n",
            "문장 번호: 2 pos =  6 pattern =  aaa\n",
            "문장 번호: 2 pos =  7 pattern =  aaa\n",
            "문장 번호: 2 pos =  8 pattern =  aaa\n",
            "문장 번호: 2 pos =  9 pattern =  aaa\n",
            "문장 번호: 2 pos =  10 pattern =  aaa\n"
          ]
        }
      ]
    },
    {
      "cell_type": "code",
      "source": [
        "S"
      ],
      "metadata": {
        "id": "TJqhaJzs0dOh",
        "colab": {
          "base_uri": "https://localhost:8080/"
        },
        "outputId": "903fdda9-4989-49bf-ba4b-f3b0fa629813"
      },
      "execution_count": null,
      "outputs": [
        {
          "output_type": "execute_result",
          "data": {
            "text/plain": [
              "['aaa', 'aaaabb', 'aabbcc', 'abb', 'bcc', 'bbcc', 'aabbccdd', 'aaabb', 'cccd']"
            ]
          },
          "metadata": {},
          "execution_count": 19
        }
      ]
    },
    {
      "cell_type": "code",
      "source": [
        "list"
      ],
      "metadata": {
        "colab": {
          "base_uri": "https://localhost:8080/"
        },
        "id": "kgoZxeTPXu0O",
        "outputId": "79ce4f2e-38ea-49bb-c350-d13b66ed468b"
      },
      "execution_count": null,
      "outputs": [
        {
          "output_type": "execute_result",
          "data": {
            "text/plain": [
              "['TRUE', 'TRUE', 'TRUE', 'TRUE', 'TRUE', 'TRUE', 'TRUE', 'TRUE', 'FALSE']"
            ]
          },
          "metadata": {},
          "execution_count": 20
        }
      ]
    },
    {
      "cell_type": "code",
      "source": [
        ""
      ],
      "metadata": {
        "id": "JURJ50bdjaZ5"
      },
      "execution_count": null,
      "outputs": []
    },
    {
      "cell_type": "code",
      "source": [
        "class classifier():\n",
        "    def first(self, N, Q, Q_l):\n",
        "        list = [0 for i in range(int(N))]\n",
        "        for i in range(int(Q)):\n",
        "            for z in range(len(S)):\n",
        "                if S[z] in Q_l[i]:\n",
        "                    list[z] = 'TRUE'\n",
        "        for z in range(int(N)):\n",
        "            if list[z] == 0:\n",
        "                list[z] = 'FALSE'\n",
        "        return list\n",
        "    \n",
        "    def second(self, N, Q, Q_l):\n",
        "        for i in range(int(Q)):\n",
        "            for z in range(len(S)):\n",
        "                if S[z] in Q_l[i]:\n",
        "                    print('pos = ',Q_l[i].find(S[z]),'pattern = ',S[z] )\n",
        "    \n",
        "    def third(self, N, Q, Q_l):\n",
        "        count = 1\n",
        "        for i in range(int(Q)):\n",
        "            for z in range(len(S)):\n",
        "                while True:\n",
        "                    index = Q_l[i].find(S[z], index +1)\n",
        "                    if index == -1:\n",
        "                        break\n",
        "                    print('문장 번호:', count, 'pos = ',index,'pattern = ',S[z] )\n",
        "            count+= 1\n",
        "\n",
        "\n"
      ],
      "metadata": {
        "id": "zeCbG69HYjfK"
      },
      "execution_count": null,
      "outputs": []
    },
    {
      "cell_type": "code",
      "source": [
        ""
      ],
      "metadata": {
        "colab": {
          "base_uri": "https://localhost:8080/"
        },
        "id": "e6ZPyuB4jAHn",
        "outputId": "5071785d-7cfc-418e-a1b9-4d6c817dfe6e"
      },
      "execution_count": null,
      "outputs": [
        {
          "output_type": "execute_result",
          "data": {
            "text/plain": [
              "['aaaabbaabbccdd']"
            ]
          },
          "metadata": {},
          "execution_count": 30
        }
      ]
    },
    {
      "cell_type": "code",
      "source": [
        ""
      ],
      "metadata": {
        "id": "_t_G483wjVEf"
      },
      "execution_count": null,
      "outputs": []
    }
  ]
}