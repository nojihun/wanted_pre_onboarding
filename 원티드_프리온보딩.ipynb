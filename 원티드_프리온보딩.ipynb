{
  "nbformat": 4,
  "nbformat_minor": 0,
  "metadata": {
    "colab": {
      "name": "원티드_프리온보딩.ipynb",
      "provenance": [],
      "authorship_tag": "ABX9TyOSQQhkCkSHNnogXNMEVgJw",
      "include_colab_link": true
    },
    "kernelspec": {
      "name": "python3",
      "display_name": "Python 3"
    },
    "language_info": {
      "name": "python"
    }
  },
  "cells": [
    {
      "cell_type": "markdown",
      "metadata": {
        "id": "view-in-github",
        "colab_type": "text"
      },
      "source": [
        "<a href=\"https://colab.research.google.com/github/nojihun/wanted_pre_onboarding/blob/main/%EC%9B%90%ED%8B%B0%EB%93%9C_%ED%94%84%EB%A6%AC%EC%98%A8%EB%B3%B4%EB%94%A9.ipynb\" target=\"_parent\"><img src=\"https://colab.research.google.com/assets/colab-badge.svg\" alt=\"Open In Colab\"/></a>"
      ]
    },
    {
      "cell_type": "code",
      "execution_count": null,
      "metadata": {
        "id": "ahIAkWfxB9Yo"
      },
      "outputs": [],
      "source": [
        "import spacy\n",
        "import numpy as np \n",
        "from spacy.tokenizer import Tokenizer\n",
        "\n",
        "nlp = spacy.load(\"en_core_web_sm\")\n",
        "\n",
        "tokenizer = Tokenizer(nlp.vocab)\n",
        "\n",
        "sen = ['I like pizza!', 'You like pizza?', 'Yes, I am', 'OK, Lets go to eat pizza!']"
      ]
    },
    {
      "cell_type": "code",
      "source": [
        "class Tokenizer():\n",
        "  def __init__(self):\n",
        "    self.word_dict = {'oov': 0}\n",
        "    self.fit_checker = False\n",
        "  \n",
        "  def preprocessing(self, sequences):\n",
        "    result = []\n",
        "    '''\n",
        "    문제 1-1.\n",
        "    '''\n",
        "    import re\n",
        "\n",
        "    for i in sequences:\n",
        "        result1 = []\n",
        "        for sent in i.split(' '):\n",
        "            sent_token = [re.sub(r\"[^a-z0-9]\", \"\", sent.lower())]\n",
        "            result1.extend(sent_token)\n",
        "        result.append(result1)\n",
        "\n",
        "    return result\n",
        "  \n",
        "  def fit(self, sequences):\n",
        "    from sklearn.feature_extraction.text import CountVectorizer\n",
        "    self.fit_checker = False\n",
        "    '''\n",
        "    문제 1-2.\n",
        "    '''\n",
        "    sentence = {}\n",
        "    tokens = self.preprocessing(sequences)\n",
        "    z = []\n",
        "    for i in tokens:\n",
        "      z.extend(i)\n",
        "    for i in z:\n",
        "      if i not in sentence.keys():\n",
        "        sentence[i]= 0\n",
        "      sentence[i] += 1\n",
        "    z= 0\n",
        "    for word, frequency in sentence.items():\n",
        "      z = z+1\n",
        "      self.word_dict[word] = z\n",
        "    self.fit_checker = True\n",
        "  \n",
        "  def transform(self, sequences):\n",
        "    result = []\n",
        "    self.fit(sequences)\n",
        "    tokens = self.preprocessing(sequences)\n",
        "    if self.fit_checker:\n",
        "      '''\n",
        "      문제 1-3.\n",
        "      '''\n",
        "      for i in tokens:\n",
        "        a= []\n",
        "        for z in i:\n",
        "          if z in self.word_dict.keys():\n",
        "            a.append(self.word_dict[z])\n",
        "          else:\n",
        "            a.appned(self.word_dict['oov'])\n",
        "        result.append(a)\n",
        "      return result\n",
        "    else:\n",
        "      raise Exception(\"Tokenizer instance is not fitted yet.\")\n",
        "      \n",
        "  def fit_transform(self, sequences):\n",
        "    self.fit(sequences)\n",
        "    result = self.transform(sequences)\n",
        "    return result"
      ],
      "metadata": {
        "id": "QPkxz5X1CZ_k"
      },
      "execution_count": 22,
      "outputs": []
    },
    {
      "cell_type": "code",
      "source": [
        "Tokenizer().preprocessing(sen)"
      ],
      "metadata": {
        "colab": {
          "base_uri": "https://localhost:8080/"
        },
        "id": "xHlXJJpQGFZi",
        "outputId": "3789d44b-60be-41d2-fb49-58ec7bdfd1d9"
      },
      "execution_count": 23,
      "outputs": [
        {
          "output_type": "execute_result",
          "data": {
            "text/plain": [
              "[['i', 'like', 'pizza', 'i'],\n",
              " ['you', 'like', 'pizza'],\n",
              " ['yes', 'i', 'am'],\n",
              " ['ok', 'lets', 'go', 'to', 'eat', 'pizza']]"
            ]
          },
          "metadata": {},
          "execution_count": 23
        }
      ]
    },
    {
      "cell_type": "code",
      "source": [
        "class TfidfVectorizer:\n",
        "  def __init__(self, tokenizer):\n",
        "    self.tokenizer = tokenizer\n",
        "    self.fit_checker = False\n",
        "  \n",
        "  def fit(self, sequences):\n",
        "    self.fit_checker = False\n",
        "    tokenized = self.tokenizer().fit_transform(sequences)\n",
        "    '''\n",
        "    문제 2-1.\n",
        "    '''\n",
        "    n = len(tokenized)\n",
        "    to = sum(tokenized, [])\n",
        "    s_to = set(to)\n",
        "    self.df = [np.log(n/(1+to.count(i))) for i in s_to ]\n",
        "\n",
        "    self.fit_checker = True\n",
        "\n",
        "  def transform(self, sequences):\n",
        "    if self.fit_checker:\n",
        "      tokenized = self.tokenizer().transform(sequences)\n",
        "      '''\n",
        "      문제 2-2.\n",
        "      '''\n",
        "      N = len(tokenized)\n",
        "      vocab = list(dict.fromkeys(sum(tokenized, [])))\n",
        "      result = []\n",
        "      for i in range(N):\n",
        "        result.append([])\n",
        "        d = tokenized[i]\n",
        "        for j in range(len(set(d))):\n",
        "          t = list(dict.fromkeys(d))[j]\n",
        "          result[-1].append(d.count(t)*self.df[t-1])\n",
        "      self.tfidf_matrix = result\n",
        "\n",
        "      return self.tfidf_matrix\n",
        "    else:\n",
        "      raise Exception(\"TfidfVectorizer instance is not fitted yet.\")\n",
        "\n",
        "  \n",
        "  def fit_transform(self, sequences):\n",
        "    self.fit(sequences)\n",
        "    return self.transform(sequences)\n",
        "\n",
        "sen = ['I like pizza I', 'You like pizza?', 'Yes, I am', 'OK, Lets go to eat pizza!']\n",
        "print(TfidfVectorizer(Tokenizer).fit_transform(sen))"
      ],
      "metadata": {
        "colab": {
          "base_uri": "https://localhost:8080/"
        },
        "id": "yXDWmhEFCb3k",
        "outputId": "05868c57-f45c-4ee9-c8b6-12bec3663ba6"
      },
      "execution_count": 24,
      "outputs": [
        {
          "output_type": "stream",
          "name": "stdout",
          "text": [
            "[[0.0, 0.28768207245178085, 0.0], [0.6931471805599453, 0.28768207245178085, 0.0], [0.6931471805599453, 0.0, 0.6931471805599453], [0.6931471805599453, 0.6931471805599453, 0.6931471805599453, 0.6931471805599453, 0.6931471805599453, 0.0]]\n"
          ]
        }
      ]
    },
    {
      "cell_type": "code",
      "source": [
        ""
      ],
      "metadata": {
        "id": "EAt0iNyDGww_"
      },
      "execution_count": null,
      "outputs": []
    }
  ]
}